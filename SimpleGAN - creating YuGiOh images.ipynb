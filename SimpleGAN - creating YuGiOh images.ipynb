{
  "nbformat": 4,
  "nbformat_minor": 5,
  "metadata": {
    "kernelspec": {
      "display_name": "Python 3 (ipykernel)",
      "language": "python",
      "name": "python3"
    },
    "language_info": {
      "codemirror_mode": {
        "name": "ipython",
        "version": 3
      },
      "file_extension": ".py",
      "mimetype": "text/x-python",
      "name": "python",
      "nbconvert_exporter": "python",
      "pygments_lexer": "ipython3",
      "version": "3.8.3"
    },
    "colab": {
      "name": "SimpleGAN - creating YuGiOh images.ipynb",
      "provenance": [],
      "collapsed_sections": []
    },
    "accelerator": "GPU"
  },
  "cells": [
    {
      "cell_type": "code",
      "metadata": {
        "colab": {
          "base_uri": "https://localhost:8080/"
        },
        "id": "QEMJavAY_hj6",
        "outputId": "cb16b2a8-f916-4251-ee20-98ab585c8934"
      },
      "source": [
        "from google.colab import drive\n",
        "drive.mount('/content/drive')"
      ],
      "id": "QEMJavAY_hj6",
      "execution_count": null,
      "outputs": [
        {
          "output_type": "stream",
          "text": [
            "Mounted at /content/drive\n"
          ],
          "name": "stdout"
        }
      ]
    },
    {
      "cell_type": "code",
      "metadata": {
        "id": "97NK0sBW_jzq"
      },
      "source": [
        "!cp /content/drive/MyDrive/images_preprocessed.zip ."
      ],
      "id": "97NK0sBW_jzq",
      "execution_count": null,
      "outputs": []
    },
    {
      "cell_type": "code",
      "metadata": {
        "id": "GmiV7zEeAjsW"
      },
      "source": [
        "!unzip images_preprocessed.zip"
      ],
      "id": "GmiV7zEeAjsW",
      "execution_count": null,
      "outputs": []
    },
    {
      "cell_type": "code",
      "metadata": {
        "id": "6e879d72-823b-48ef-9108-ee3cd80389d6"
      },
      "source": [
        "import numpy as np\n",
        "import matplotlib.pyplot as plt\n",
        "import tensorflow as tf\n",
        "import datetime\n",
        "\n",
        "from tensorflow import keras\n",
        "from tensorflow.keras.models import Sequential\n",
        "from tensorflow.keras.layers import Dense, Conv2D, MaxPooling2D, Flatten, Dropout,ZeroPadding2D, BatchNormalization\n",
        "from tensorflow.keras import regularizers"
      ],
      "id": "6e879d72-823b-48ef-9108-ee3cd80389d6",
      "execution_count": null,
      "outputs": []
    },
    {
      "cell_type": "code",
      "metadata": {
        "id": "dc793621-5947-41fa-b7bb-5f98a7160180"
      },
      "source": [
        "#Settings\n",
        "num_batches = 31\n",
        "learning_rate = 0.0001\n",
        "num_epochs = 100\n",
        "width = 128\n",
        "height = 128\n",
        "seed = 2021\n",
        "encoding_size = 100"
      ],
      "id": "dc793621-5947-41fa-b7bb-5f98a7160180",
      "execution_count": null,
      "outputs": []
    },
    {
      "cell_type": "code",
      "metadata": {
        "colab": {
          "base_uri": "https://localhost:8080/"
        },
        "id": "1a0494e0-d462-4c8d-8d74-2bfef26d21d7",
        "outputId": "a44e8e28-df56-4ca4-d86c-b982018cd1ff"
      },
      "source": [
        "#Load images\n",
        "train_dataset = keras.preprocessing.image_dataset_from_directory(\n",
        "    \"images_preprocessed\",\n",
        "    label_mode = None,\n",
        "    color_mode = \"rgb\",\n",
        "    batch_size = num_batches,\n",
        "    image_size = (width, height),\n",
        "    seed = seed\n",
        ")"
      ],
      "id": "1a0494e0-d462-4c8d-8d74-2bfef26d21d7",
      "execution_count": null,
      "outputs": [
        {
          "output_type": "stream",
          "text": [
            "Found 11470 files belonging to 1 classes.\n"
          ],
          "name": "stdout"
        }
      ]
    },
    {
      "cell_type": "code",
      "metadata": {
        "id": "b4db30c5-99eb-42d7-bf23-2c17d723055d"
      },
      "source": [
        "tf.random.set_seed(seed)\n",
        "np.random.seed(seed)"
      ],
      "id": "b4db30c5-99eb-42d7-bf23-2c17d723055d",
      "execution_count": null,
      "outputs": []
    },
    {
      "cell_type": "code",
      "metadata": {
        "id": "a27527b9-b6ac-4f91-895e-ba054105e65b"
      },
      "source": [
        "#Create neural network structure\n",
        "generator = keras.models.Sequential([\n",
        "    keras.layers.Dense(32 * 32 * 128, input_shape=[encoding_size]),\n",
        "    keras.layers.Reshape([32, 32, 128]),\n",
        "    keras.layers.BatchNormalization(),\n",
        "    keras.layers.Conv2DTranspose(64, kernel_size=5, strides=2, padding=\"SAME\", activation=\"selu\"),\n",
        "    keras.layers.BatchNormalization(),\n",
        "    keras.layers.Conv2DTranspose(3, kernel_size=5, strides=2, padding=\"SAME\", activation=\"tanh\"),\n",
        "])\n",
        "\n",
        "#Evaluating images\n",
        "discriminator = keras.models.Sequential([\n",
        "    keras.layers.Conv2D(64, kernel_size=5, strides=2, padding=\"SAME\", activation=keras.layers.LeakyReLU(0.2), input_shape=[width, height, 3]),\n",
        "    keras.layers.Dropout(0.4),\n",
        "    keras.layers.Conv2D(128, kernel_size=5, strides=2, padding=\"SAME\", activation=keras.layers.LeakyReLU(0.2)),\n",
        "    keras.layers.Dropout(0.4),\n",
        "    keras.layers.Flatten(),\n",
        "    keras.layers.Dense(1, activation=\"sigmoid\")\n",
        "])\n",
        "\n",
        "gan_model = keras.models.Sequential([generator, discriminator])"
      ],
      "id": "a27527b9-b6ac-4f91-895e-ba054105e65b",
      "execution_count": null,
      "outputs": []
    },
    {
      "cell_type": "code",
      "metadata": {
        "id": "5fc9de16-db12-4de0-974f-e5aaec7eff30"
      },
      "source": [
        "#Compile\n",
        "discriminator.compile(loss=\"binary_crossentropy\", optimizer=\"rmsprop\")\n",
        "discriminator.trainable = False\n",
        "gan_model.compile(loss=\"binary_crossentropy\", optimizer=\"rmsprop\")"
      ],
      "id": "5fc9de16-db12-4de0-974f-e5aaec7eff30",
      "execution_count": null,
      "outputs": []
    },
    {
      "cell_type": "code",
      "metadata": {
        "id": "42d84868-1301-43bd-a5b2-cb44c5daf137"
      },
      "source": [
        "#Change data to range -1 to 1 because of tanh activation in generator\n",
        "train_dataset = train_dataset.map(lambda x: (x / 255.) * 2. - 1.)"
      ],
      "id": "42d84868-1301-43bd-a5b2-cb44c5daf137",
      "execution_count": null,
      "outputs": []
    },
    {
      "cell_type": "code",
      "metadata": {
        "id": "0aa45f49-4cde-4e21-9eb9-73ce40ba0b40"
      },
      "source": [
        "%matplotlib inline\n",
        "def plot_multiple_images(images, n_cols=None):\n",
        "    n_cols = n_cols or len(images)\n",
        "    n_rows = (len(images) - 1) // n_cols + 1\n",
        "    if images.shape[-1] == 1:\n",
        "        images = np.squeeze(images, axis=-1)\n",
        "    images = ((images + 1) / 2.)\n",
        "    plt.figure(figsize=(n_cols*2, n_rows*2))\n",
        "    for index, image in enumerate(images):\n",
        "        plt.subplot(n_rows, n_cols, index + 1)\n",
        "        plt.imshow(image, cmap=\"binary\")\n",
        "        plt.axis(\"off\")"
      ],
      "id": "0aa45f49-4cde-4e21-9eb9-73ce40ba0b40",
      "execution_count": null,
      "outputs": []
    },
    {
      "cell_type": "code",
      "metadata": {
        "tags": [],
        "id": "faf9a847-27b8-4f87-9b50-4df8838def74"
      },
      "source": [
        "#Custom training\n",
        "for epoch in range(num_epochs):\n",
        "    print(epoch)\n",
        "    for actual_batch in train_dataset:\n",
        "        #Train discriminator (Image critic)\n",
        "        noise = tf.random.normal(shape=[num_batches, encoding_size]) #Generate gaussian noise \n",
        "        generated_images = generator(noise) #Create images from noise\n",
        "        generated_and_real = tf.concat([generated_images, actual_batch], axis=0) #Concatenate real and fake images \n",
        "        labels_for_discriminator = tf.constant([[0.]] * num_batches + [[1.]] * num_batches) #Label images, 0 for fake 1 for real images\n",
        "        discriminator.trainable = True\n",
        "        discriminator.train_on_batch(generated_and_real, labels_for_discriminator)\n",
        "        \n",
        "        #Train generator (Image painter)\n",
        "        noise = tf.random.normal(shape=[num_batches, encoding_size])\n",
        "        labels_for_generator = tf.constant([[1.]] * num_batches)\n",
        "        discriminator.trainable = False\n",
        "        gan_model.train_on_batch(noise, labels_for_generator)\n",
        "    plot_multiple_images(generated_images, 10)\n",
        "    plt.show()"
      ],
      "id": "faf9a847-27b8-4f87-9b50-4df8838def74",
      "execution_count": null,
      "outputs": []
    }
  ]
}