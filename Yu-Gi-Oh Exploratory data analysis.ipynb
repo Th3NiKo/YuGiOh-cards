{
 "cells": [
  {
   "cell_type": "code",
   "execution_count": 33,
   "id": "1afb4f72-fe33-4e50-bb91-0c0d8dae384f",
   "metadata": {},
   "outputs": [],
   "source": [
    "import pandas as pd\n",
    "import seaborn as sns\n",
    "import matplotlib.pyplot as plt"
   ]
  },
  {
   "cell_type": "code",
   "execution_count": 5,
   "id": "bd49550e-3dba-4464-b7db-21e9f094fdf4",
   "metadata": {},
   "outputs": [],
   "source": [
    "info_database = pd.read_csv(\"cards_database.csv\",index_col=\"Id\")"
   ]
  },
  {
   "cell_type": "code",
   "execution_count": 6,
   "id": "d6144030-49a2-44f0-b1a0-9f90cfb5fc2e",
   "metadata": {},
   "outputs": [
    {
     "data": {
      "text/html": [
       "<div>\n",
       "<style scoped>\n",
       "    .dataframe tbody tr th:only-of-type {\n",
       "        vertical-align: middle;\n",
       "    }\n",
       "\n",
       "    .dataframe tbody tr th {\n",
       "        vertical-align: top;\n",
       "    }\n",
       "\n",
       "    .dataframe thead th {\n",
       "        text-align: right;\n",
       "    }\n",
       "</style>\n",
       "<table border=\"1\" class=\"dataframe\">\n",
       "  <thead>\n",
       "    <tr style=\"text-align: right;\">\n",
       "      <th></th>\n",
       "      <th>Name</th>\n",
       "      <th>Desc</th>\n",
       "      <th>Type</th>\n",
       "      <th>Race</th>\n",
       "      <th>Archetype</th>\n",
       "      <th>Attribute</th>\n",
       "      <th>Atk</th>\n",
       "      <th>Def</th>\n",
       "      <th>Level</th>\n",
       "      <th>Price</th>\n",
       "    </tr>\n",
       "    <tr>\n",
       "      <th>Id</th>\n",
       "      <th></th>\n",
       "      <th></th>\n",
       "      <th></th>\n",
       "      <th></th>\n",
       "      <th></th>\n",
       "      <th></th>\n",
       "      <th></th>\n",
       "      <th></th>\n",
       "      <th></th>\n",
       "      <th></th>\n",
       "    </tr>\n",
       "  </thead>\n",
       "  <tbody>\n",
       "    <tr>\n",
       "      <th>34541863</th>\n",
       "      <td>\"A\" Cell Breeding Device</td>\n",
       "      <td>During each of your Standby Phases, put 1 A-Co...</td>\n",
       "      <td>Spell Card</td>\n",
       "      <td>Continuous</td>\n",
       "      <td>Alien</td>\n",
       "      <td>NaN</td>\n",
       "      <td>NaN</td>\n",
       "      <td>NaN</td>\n",
       "      <td>NaN</td>\n",
       "      <td>0.24</td>\n",
       "    </tr>\n",
       "    <tr>\n",
       "      <th>64163367</th>\n",
       "      <td>\"A\" Cell Incubator</td>\n",
       "      <td>Each time an A-Counter(s) is removed from play...</td>\n",
       "      <td>Spell Card</td>\n",
       "      <td>Continuous</td>\n",
       "      <td>Alien</td>\n",
       "      <td>NaN</td>\n",
       "      <td>NaN</td>\n",
       "      <td>NaN</td>\n",
       "      <td>NaN</td>\n",
       "      <td>0.21</td>\n",
       "    </tr>\n",
       "    <tr>\n",
       "      <th>91231901</th>\n",
       "      <td>\"A\" Cell Recombination Device</td>\n",
       "      <td>Target 1 face-up monster on the field; send 1 ...</td>\n",
       "      <td>Spell Card</td>\n",
       "      <td>Quick-Play</td>\n",
       "      <td>Alien</td>\n",
       "      <td>NaN</td>\n",
       "      <td>NaN</td>\n",
       "      <td>NaN</td>\n",
       "      <td>NaN</td>\n",
       "      <td>0.14</td>\n",
       "    </tr>\n",
       "    <tr>\n",
       "      <th>73262676</th>\n",
       "      <td>\"A\" Cell Scatter Burst</td>\n",
       "      <td>Select 1 face-up \"Alien\" monster you control. ...</td>\n",
       "      <td>Spell Card</td>\n",
       "      <td>Quick-Play</td>\n",
       "      <td>Alien</td>\n",
       "      <td>NaN</td>\n",
       "      <td>NaN</td>\n",
       "      <td>NaN</td>\n",
       "      <td>NaN</td>\n",
       "      <td>0.20</td>\n",
       "    </tr>\n",
       "    <tr>\n",
       "      <th>37478723</th>\n",
       "      <td>\"Infernoble Arms - Durendal\"</td>\n",
       "      <td>While this card is equipped to a monster: You ...</td>\n",
       "      <td>Spell Card</td>\n",
       "      <td>Equip</td>\n",
       "      <td>Noble Knight</td>\n",
       "      <td>NaN</td>\n",
       "      <td>NaN</td>\n",
       "      <td>NaN</td>\n",
       "      <td>NaN</td>\n",
       "      <td>10.74</td>\n",
       "    </tr>\n",
       "  </tbody>\n",
       "</table>\n",
       "</div>"
      ],
      "text/plain": [
       "                                   Name  \\\n",
       "Id                                        \n",
       "34541863       \"A\" Cell Breeding Device   \n",
       "64163367             \"A\" Cell Incubator   \n",
       "91231901  \"A\" Cell Recombination Device   \n",
       "73262676         \"A\" Cell Scatter Burst   \n",
       "37478723   \"Infernoble Arms - Durendal\"   \n",
       "\n",
       "                                                       Desc        Type  \\\n",
       "Id                                                                        \n",
       "34541863  During each of your Standby Phases, put 1 A-Co...  Spell Card   \n",
       "64163367  Each time an A-Counter(s) is removed from play...  Spell Card   \n",
       "91231901  Target 1 face-up monster on the field; send 1 ...  Spell Card   \n",
       "73262676  Select 1 face-up \"Alien\" monster you control. ...  Spell Card   \n",
       "37478723  While this card is equipped to a monster: You ...  Spell Card   \n",
       "\n",
       "                Race     Archetype Attribute  Atk  Def  Level  Price  \n",
       "Id                                                                    \n",
       "34541863  Continuous         Alien       NaN  NaN  NaN    NaN   0.24  \n",
       "64163367  Continuous         Alien       NaN  NaN  NaN    NaN   0.21  \n",
       "91231901  Quick-Play         Alien       NaN  NaN  NaN    NaN   0.14  \n",
       "73262676  Quick-Play         Alien       NaN  NaN  NaN    NaN   0.20  \n",
       "37478723       Equip  Noble Knight       NaN  NaN  NaN    NaN  10.74  "
      ]
     },
     "execution_count": 6,
     "metadata": {},
     "output_type": "execute_result"
    }
   ],
   "source": [
    "info_database.head(5)"
   ]
  },
  {
   "cell_type": "code",
   "execution_count": 11,
   "id": "c51b958a-543a-42b9-a8c9-088a558cbc83",
   "metadata": {},
   "outputs": [
    {
     "name": "stdout",
     "output_type": "stream",
     "text": [
      "<class 'pandas.core.frame.DataFrame'>\n",
      "Int64Index: 11474 entries, 34541863 to 76080032\n",
      "Data columns (total 10 columns):\n",
      " #   Column     Non-Null Count  Dtype  \n",
      "---  ------     --------------  -----  \n",
      " 0   Name       11474 non-null  object \n",
      " 1   Desc       11454 non-null  object \n",
      " 2   Type       11474 non-null  object \n",
      " 3   Race       11474 non-null  object \n",
      " 4   Archetype  6418 non-null   object \n",
      " 5   Attribute  7557 non-null   object \n",
      " 6   Atk        7557 non-null   float64\n",
      " 7   Def        7218 non-null   float64\n",
      " 8   Level      7218 non-null   float64\n",
      " 9   Price      11474 non-null  float64\n",
      "dtypes: float64(4), object(6)\n",
      "memory usage: 986.0+ KB\n"
     ]
    }
   ],
   "source": [
    "info_database.info()"
   ]
  },
  {
   "cell_type": "code",
   "execution_count": 72,
   "id": "da34255a-b0ed-46ce-8745-2e3af895f82e",
   "metadata": {},
   "outputs": [
    {
     "data": {
      "text/html": [
       "<div>\n",
       "<style scoped>\n",
       "    .dataframe tbody tr th:only-of-type {\n",
       "        vertical-align: middle;\n",
       "    }\n",
       "\n",
       "    .dataframe tbody tr th {\n",
       "        vertical-align: top;\n",
       "    }\n",
       "\n",
       "    .dataframe thead th {\n",
       "        text-align: right;\n",
       "    }\n",
       "</style>\n",
       "<table border=\"1\" class=\"dataframe\">\n",
       "  <thead>\n",
       "    <tr style=\"text-align: right;\">\n",
       "      <th></th>\n",
       "      <th>Atk</th>\n",
       "      <th>Def</th>\n",
       "      <th>Level</th>\n",
       "      <th>Price</th>\n",
       "    </tr>\n",
       "  </thead>\n",
       "  <tbody>\n",
       "    <tr>\n",
       "      <th>count</th>\n",
       "      <td>7557.000000</td>\n",
       "      <td>7218.000000</td>\n",
       "      <td>7218.000000</td>\n",
       "      <td>11474.000000</td>\n",
       "    </tr>\n",
       "    <tr>\n",
       "      <th>mean</th>\n",
       "      <td>1465.396321</td>\n",
       "      <td>1227.917706</td>\n",
       "      <td>4.508451</td>\n",
       "      <td>1.571110</td>\n",
       "    </tr>\n",
       "    <tr>\n",
       "      <th>std</th>\n",
       "      <td>937.353026</td>\n",
       "      <td>852.870464</td>\n",
       "      <td>2.348646</td>\n",
       "      <td>17.474039</td>\n",
       "    </tr>\n",
       "    <tr>\n",
       "      <th>min</th>\n",
       "      <td>0.000000</td>\n",
       "      <td>0.000000</td>\n",
       "      <td>0.000000</td>\n",
       "      <td>0.000000</td>\n",
       "    </tr>\n",
       "    <tr>\n",
       "      <th>25%</th>\n",
       "      <td>800.000000</td>\n",
       "      <td>500.000000</td>\n",
       "      <td>3.000000</td>\n",
       "      <td>0.140000</td>\n",
       "    </tr>\n",
       "    <tr>\n",
       "      <th>50%</th>\n",
       "      <td>1500.000000</td>\n",
       "      <td>1200.000000</td>\n",
       "      <td>4.000000</td>\n",
       "      <td>0.220000</td>\n",
       "    </tr>\n",
       "    <tr>\n",
       "      <th>75%</th>\n",
       "      <td>2100.000000</td>\n",
       "      <td>1800.000000</td>\n",
       "      <td>6.000000</td>\n",
       "      <td>0.550000</td>\n",
       "    </tr>\n",
       "    <tr>\n",
       "      <th>max</th>\n",
       "      <td>5000.000000</td>\n",
       "      <td>5000.000000</td>\n",
       "      <td>13.000000</td>\n",
       "      <td>999.990000</td>\n",
       "    </tr>\n",
       "  </tbody>\n",
       "</table>\n",
       "</div>"
      ],
      "text/plain": [
       "               Atk          Def        Level         Price\n",
       "count  7557.000000  7218.000000  7218.000000  11474.000000\n",
       "mean   1465.396321  1227.917706     4.508451      1.571110\n",
       "std     937.353026   852.870464     2.348646     17.474039\n",
       "min       0.000000     0.000000     0.000000      0.000000\n",
       "25%     800.000000   500.000000     3.000000      0.140000\n",
       "50%    1500.000000  1200.000000     4.000000      0.220000\n",
       "75%    2100.000000  1800.000000     6.000000      0.550000\n",
       "max    5000.000000  5000.000000    13.000000    999.990000"
      ]
     },
     "execution_count": 72,
     "metadata": {},
     "output_type": "execute_result"
    }
   ],
   "source": [
    "info_database.describe()"
   ]
  },
  {
   "cell_type": "code",
   "execution_count": 24,
   "id": "25f2e6ed-532d-45ea-b022-0b8cc588e8e4",
   "metadata": {},
   "outputs": [
    {
     "name": "stdout",
     "output_type": "stream",
     "text": [
      "{'Skill Card', 'Fusion Monster', 'Ritual Effect Monster', 'Spell Card', 'Pendulum Effect Monster', 'Synchro Pendulum Effect Monster', 'Normal Tuner Monster', 'Tuner Monster', 'Trap Card', 'XYZ Monster', 'Gemini Monster', 'Flip Effect Monster', 'Synchro Monster', 'Pendulum Effect Fusion Monster', 'Pendulum Normal Monster', 'Normal Monster', 'Union Effect Monster', 'Effect Monster', 'Pendulum Tuner Effect Monster', 'XYZ Pendulum Effect Monster', 'Spirit Monster', 'Synchro Tuner Monster', 'Token', 'Link Monster', 'Toon Monster', 'Pendulum Flip Effect Monster', 'Ritual Monster'}\n"
     ]
    }
   ],
   "source": [
    "#All possible types\n",
    "print(set(info_database[\"Type\"]))"
   ]
  },
  {
   "cell_type": "code",
   "execution_count": 25,
   "id": "c9323c6b-ed20-4326-b4f2-8faf70bffee8",
   "metadata": {},
   "outputs": [
    {
     "name": "stdout",
     "output_type": "stream",
     "text": [
      "{'Beast', 'Mako', 'Yami Yugi', 'Emma', 'David', 'Sea Serpent', 'Cyberse', 'Yami Bakura', 'Divine-Beast', 'Creator-God', 'Rock', 'Thunder', 'Fish', 'Wyrm', 'Ritual', 'Reptile', 'Seto Kaiba', 'Normal', 'Pyro', 'Keith', 'Joey', 'Joey Wheeler', 'Mai Valentine', 'Quick-Play', 'Insect', 'Dinosaur', 'Plant', 'Spellcaster', 'Machine', 'Continuous', 'Counter', 'Kaiba', 'Warrior', 'Rex', 'Psychic', 'Equip', 'Tea Gardner', 'Lumis Umbra', 'Arkana', 'Fairy', 'Aqua', 'Winged Beast', 'Mai', 'Yami Marik', 'Christine', 'Pegasus', 'Fiend', 'Field', 'Andrew', 'Weevil', 'Ishizu', 'Bonz', 'Dragon', 'Odion', 'Espa Roba', 'Beast-Warrior', 'Yugi', 'Ishizu Ishtar', 'Zombie'}\n"
     ]
    }
   ],
   "source": [
    "#All possible Races\n",
    "print(set(info_database[\"Race\"]))"
   ]
  },
  {
   "cell_type": "code",
   "execution_count": 27,
   "id": "e8253e3d-811a-497d-b4d9-767b960c6bba",
   "metadata": {},
   "outputs": [
    {
     "name": "stdout",
     "output_type": "stream",
     "text": [
      "{nan, 'DARK', 'DIVINE', 'FIRE', 'WIND', 'LIGHT', 'WATER', 'EARTH'}\n"
     ]
    }
   ],
   "source": [
    "#All possible Attributes\n",
    "print(set(info_database[\"Attribute\"]))"
   ]
  },
  {
   "cell_type": "code",
   "execution_count": 65,
   "id": "5c2fd5b7-ae76-47f6-91b5-4beb7407c593",
   "metadata": {},
   "outputs": [],
   "source": [
    "sns.set_style(\"darkgrid\")"
   ]
  },
  {
   "cell_type": "code",
   "execution_count": 66,
   "id": "aff301b6-9d60-4900-b2c2-0c94c192ef63",
   "metadata": {},
   "outputs": [
    {
     "data": {
      "text/plain": [
       "<matplotlib.axes._subplots.AxesSubplot at 0x2d2daa99ac0>"
      ]
     },
     "execution_count": 66,
     "metadata": {},
     "output_type": "execute_result"
    },
    {
     "data": {
      "image/png": "[encoded data removed]",
      "text/plain": [
       "<Figure size 1080x432 with 1 Axes>"
      ]
     },
     "metadata": {},
     "output_type": "display_data"
    }
   ],
   "source": [
    "#Show types distribution\n",
    "fig, ax = plt.subplots(figsize=(15,6))\n",
    "sns.set_palette(sns.color_palette(\"muted\"))\n",
    "sns.countplot(data=info_database, x=\"Attribute\",ax=ax)"
   ]
  },
  {
   "cell_type": "code",
   "execution_count": 71,
   "id": "4c2f5b48-1756-41a9-880e-c3125acaea6d",
   "metadata": {},
   "outputs": [
    {
     "data": {
      "text/plain": [
       "<matplotlib.axes._subplots.AxesSubplot at 0x2d2dca6ad60>"
      ]
     },
     "execution_count": 71,
     "metadata": {},
     "output_type": "execute_result"
    },
    {
     "data": {
      "image/png": "[encoded data removed]",
      "text/plain": [
       "<Figure size 1080x432 with 1 Axes>"
      ]
     },
     "metadata": {},
     "output_type": "display_data"
    }
   ],
   "source": [
    "#Show types distribution\n",
    "fig, ax = plt.subplots(figsize=(15,6))\n",
    "sns.set_palette(sns.color_palette(\"muted\"))\n",
    "sns.scatterplot(data=info_database, x=\"Atk\", y=\"Def\", ax=ax)"
   ]
  },
  {
   "cell_type": "code",
   "execution_count": 82,
   "id": "396b55d1-15ef-4736-a960-e1c2ed15505d",
   "metadata": {},
   "outputs": [
    {
     "name": "stdout",
     "output_type": "stream",
     "text": [
      "['Fusion Monster', 'Ritual Effect Monster', 'Pendulum Effect Monster', 'Synchro Pendulum Effect Monster', 'Normal Tuner Monster', 'Tuner Monster', 'XYZ Monster', 'Gemini Monster', 'Flip Effect Monster', 'Synchro Monster', 'Pendulum Effect Fusion Monster', 'Pendulum Normal Monster', 'Normal Monster', 'Union Effect Monster', 'Effect Monster', 'Pendulum Tuner Effect Monster', 'XYZ Pendulum Effect Monster', 'Spirit Monster', 'Synchro Tuner Monster', 'Link Monster', 'Toon Monster', 'Pendulum Flip Effect Monster', 'Ritual Monster']\n",
      "{'Skill Card', 'Spell Card', 'Trap Card'}\n"
     ]
    }
   ],
   "source": [
    "#Split types into monster and spell cards (Discarded tokens)\n",
    "monster_type_names = [x for x in set(info_database[\"Type\"]) if \"Monster\" in x]\n",
    "print(monster_type_names)\n",
    "spell_type_names = (set(info_database[\"Type\"]) - set(monster_type_names)) - set(['Token'])\n",
    "print(spell_type_names)"
   ]
  },
  {
   "cell_type": "code",
   "execution_count": 96,
   "id": "be02e1f7-7a9f-4a29-8381-0767ca587ead",
   "metadata": {},
   "outputs": [
    {
     "data": {
      "text/plain": [
       "7450"
      ]
     },
     "execution_count": 96,
     "metadata": {},
     "output_type": "execute_result"
    }
   ],
   "source": [
    "#How many monsters\n",
    "info_database[info_database[\"Type\"].isin(monster_type_names)][\"Name\"].count()"
   ]
  },
  {
   "cell_type": "code",
   "execution_count": 98,
   "id": "161e2d6b-8801-4063-a50c-be51ed51a165",
   "metadata": {},
   "outputs": [],
   "source": [
    "info_database[\"AtkDefCombined\"] = info_database[\"Atk\"] + info_database[\"Def\"]"
   ]
  },
  {
   "cell_type": "code",
   "execution_count": 101,
   "id": "ae1c8a49-dac1-45d6-8e7b-ecea43c1d86b",
   "metadata": {},
   "outputs": [
    {
     "data": {
      "text/html": [
       "<div>\n",
       "<style scoped>\n",
       "    .dataframe tbody tr th:only-of-type {\n",
       "        vertical-align: middle;\n",
       "    }\n",
       "\n",
       "    .dataframe tbody tr th {\n",
       "        vertical-align: top;\n",
       "    }\n",
       "\n",
       "    .dataframe thead th {\n",
       "        text-align: right;\n",
       "    }\n",
       "</style>\n",
       "<table border=\"1\" class=\"dataframe\">\n",
       "  <thead>\n",
       "    <tr style=\"text-align: right;\">\n",
       "      <th></th>\n",
       "      <th>Name</th>\n",
       "      <th>Desc</th>\n",
       "      <th>Type</th>\n",
       "      <th>Race</th>\n",
       "      <th>Archetype</th>\n",
       "      <th>Attribute</th>\n",
       "      <th>Atk</th>\n",
       "      <th>Def</th>\n",
       "      <th>Level</th>\n",
       "      <th>Price</th>\n",
       "      <th>AtkDefCombined</th>\n",
       "    </tr>\n",
       "    <tr>\n",
       "      <th>Id</th>\n",
       "      <th></th>\n",
       "      <th></th>\n",
       "      <th></th>\n",
       "      <th></th>\n",
       "      <th></th>\n",
       "      <th></th>\n",
       "      <th></th>\n",
       "      <th></th>\n",
       "      <th></th>\n",
       "      <th></th>\n",
       "      <th></th>\n",
       "    </tr>\n",
       "  </thead>\n",
       "  <tbody>\n",
       "    <tr>\n",
       "      <th>52085072</th>\n",
       "      <td>Dystopia the Despondent</td>\n",
       "      <td>Cannot be Normal Summoned/Set. Must be Special...</td>\n",
       "      <td>Effect Monster</td>\n",
       "      <td>Fiend</td>\n",
       "      <td>NaN</td>\n",
       "      <td>DARK</td>\n",
       "      <td>5000.0</td>\n",
       "      <td>5000.0</td>\n",
       "      <td>12.0</td>\n",
       "      <td>0.66</td>\n",
       "      <td>10000.0</td>\n",
       "    </tr>\n",
       "    <tr>\n",
       "      <th>99267150</th>\n",
       "      <td>Five-Headed Dragon</td>\n",
       "      <td>5 Dragon monsters\\r\\nMust be Fusion Summoned. ...</td>\n",
       "      <td>Fusion Monster</td>\n",
       "      <td>Dragon</td>\n",
       "      <td>NaN</td>\n",
       "      <td>DARK</td>\n",
       "      <td>5000.0</td>\n",
       "      <td>5000.0</td>\n",
       "      <td>12.0</td>\n",
       "      <td>1.03</td>\n",
       "      <td>10000.0</td>\n",
       "    </tr>\n",
       "    <tr>\n",
       "      <th>37115575</th>\n",
       "      <td>Malefic Truth Dragon</td>\n",
       "      <td>Cannot be Normal Summoned/Set. Must be Special...</td>\n",
       "      <td>Effect Monster</td>\n",
       "      <td>Dragon</td>\n",
       "      <td>Malefic</td>\n",
       "      <td>DARK</td>\n",
       "      <td>5000.0</td>\n",
       "      <td>5000.0</td>\n",
       "      <td>12.0</td>\n",
       "      <td>0.46</td>\n",
       "      <td>10000.0</td>\n",
       "    </tr>\n",
       "    <tr>\n",
       "      <th>62873545</th>\n",
       "      <td>Dragon Master Knight</td>\n",
       "      <td>\"Black Luster Soldier\" + \"Blue-Eyes Ultimate D...</td>\n",
       "      <td>Fusion Monster</td>\n",
       "      <td>Dragon</td>\n",
       "      <td>Blue-Eyes</td>\n",
       "      <td>LIGHT</td>\n",
       "      <td>5000.0</td>\n",
       "      <td>5000.0</td>\n",
       "      <td>12.0</td>\n",
       "      <td>0.96</td>\n",
       "      <td>10000.0</td>\n",
       "    </tr>\n",
       "    <tr>\n",
       "      <th>84433295</th>\n",
       "      <td>Quintet Magician</td>\n",
       "      <td>5 Spellcaster monsters\\r\\nMust be Fusion Summo...</td>\n",
       "      <td>Fusion Monster</td>\n",
       "      <td>Spellcaster</td>\n",
       "      <td>NaN</td>\n",
       "      <td>DARK</td>\n",
       "      <td>4500.0</td>\n",
       "      <td>4500.0</td>\n",
       "      <td>12.0</td>\n",
       "      <td>10.89</td>\n",
       "      <td>9000.0</td>\n",
       "    </tr>\n",
       "    <tr>\n",
       "      <th>47027714</th>\n",
       "      <td>T.G. Halberd Cannon/Assault Mode</td>\n",
       "      <td>Cannot be Normal Summoned/Set. Must be Special...</td>\n",
       "      <td>Effect Monster</td>\n",
       "      <td>Machine</td>\n",
       "      <td>Assault Mode</td>\n",
       "      <td>EARTH</td>\n",
       "      <td>4500.0</td>\n",
       "      <td>4500.0</td>\n",
       "      <td>12.0</td>\n",
       "      <td>0.14</td>\n",
       "      <td>9000.0</td>\n",
       "    </tr>\n",
       "    <tr>\n",
       "      <th>37542782</th>\n",
       "      <td>Cyberdark End Dragon</td>\n",
       "      <td>\"Cyberdark Dragon\" + \"Cyber End Dragon\"\\r\\nMus...</td>\n",
       "      <td>Fusion Monster</td>\n",
       "      <td>Machine</td>\n",
       "      <td>Cyberdark</td>\n",
       "      <td>DARK</td>\n",
       "      <td>5000.0</td>\n",
       "      <td>3800.0</td>\n",
       "      <td>12.0</td>\n",
       "      <td>0.00</td>\n",
       "      <td>8800.0</td>\n",
       "    </tr>\n",
       "    <tr>\n",
       "      <th>46033517</th>\n",
       "      <td>Machina Ruinforce</td>\n",
       "      <td>Cannot be Normal Summoned/Set. Must be Special...</td>\n",
       "      <td>Effect Monster</td>\n",
       "      <td>Machine</td>\n",
       "      <td>Machina</td>\n",
       "      <td>DARK</td>\n",
       "      <td>4600.0</td>\n",
       "      <td>4100.0</td>\n",
       "      <td>10.0</td>\n",
       "      <td>0.00</td>\n",
       "      <td>8700.0</td>\n",
       "    </tr>\n",
       "    <tr>\n",
       "      <th>58054262</th>\n",
       "      <td>Machina Force</td>\n",
       "      <td>Cannot be Normal Summoned/Set. Must be Special...</td>\n",
       "      <td>Effect Monster</td>\n",
       "      <td>Machine</td>\n",
       "      <td>Machina</td>\n",
       "      <td>EARTH</td>\n",
       "      <td>4600.0</td>\n",
       "      <td>4100.0</td>\n",
       "      <td>10.0</td>\n",
       "      <td>0.10</td>\n",
       "      <td>8700.0</td>\n",
       "    </tr>\n",
       "    <tr>\n",
       "      <th>23995346</th>\n",
       "      <td>Blue-Eyes Ultimate Dragon</td>\n",
       "      <td>\"Blue-Eyes White Dragon\" + \"Blue-Eyes White Dr...</td>\n",
       "      <td>Fusion Monster</td>\n",
       "      <td>Dragon</td>\n",
       "      <td>Blue-Eyes</td>\n",
       "      <td>LIGHT</td>\n",
       "      <td>4500.0</td>\n",
       "      <td>3800.0</td>\n",
       "      <td>12.0</td>\n",
       "      <td>1.08</td>\n",
       "      <td>8300.0</td>\n",
       "    </tr>\n",
       "  </tbody>\n",
       "</table>\n",
       "</div>"
      ],
      "text/plain": [
       "                                      Name  \\\n",
       "Id                                           \n",
       "52085072           Dystopia the Despondent   \n",
       "99267150                Five-Headed Dragon   \n",
       "37115575              Malefic Truth Dragon   \n",
       "62873545              Dragon Master Knight   \n",
       "84433295                  Quintet Magician   \n",
       "47027714  T.G. Halberd Cannon/Assault Mode   \n",
       "37542782              Cyberdark End Dragon   \n",
       "46033517                 Machina Ruinforce   \n",
       "58054262                     Machina Force   \n",
       "23995346         Blue-Eyes Ultimate Dragon   \n",
       "\n",
       "                                                       Desc            Type  \\\n",
       "Id                                                                            \n",
       "52085072  Cannot be Normal Summoned/Set. Must be Special...  Effect Monster   \n",
       "99267150  5 Dragon monsters\\r\\nMust be Fusion Summoned. ...  Fusion Monster   \n",
       "37115575  Cannot be Normal Summoned/Set. Must be Special...  Effect Monster   \n",
       "62873545  \"Black Luster Soldier\" + \"Blue-Eyes Ultimate D...  Fusion Monster   \n",
       "84433295  5 Spellcaster monsters\\r\\nMust be Fusion Summo...  Fusion Monster   \n",
       "47027714  Cannot be Normal Summoned/Set. Must be Special...  Effect Monster   \n",
       "37542782  \"Cyberdark Dragon\" + \"Cyber End Dragon\"\\r\\nMus...  Fusion Monster   \n",
       "46033517  Cannot be Normal Summoned/Set. Must be Special...  Effect Monster   \n",
       "58054262  Cannot be Normal Summoned/Set. Must be Special...  Effect Monster   \n",
       "23995346  \"Blue-Eyes White Dragon\" + \"Blue-Eyes White Dr...  Fusion Monster   \n",
       "\n",
       "                 Race     Archetype Attribute     Atk     Def  Level  Price  \\\n",
       "Id                                                                            \n",
       "52085072        Fiend           NaN      DARK  5000.0  5000.0   12.0   0.66   \n",
       "99267150       Dragon           NaN      DARK  5000.0  5000.0   12.0   1.03   \n",
       "37115575       Dragon       Malefic      DARK  5000.0  5000.0   12.0   0.46   \n",
       "62873545       Dragon     Blue-Eyes     LIGHT  5000.0  5000.0   12.0   0.96   \n",
       "84433295  Spellcaster           NaN      DARK  4500.0  4500.0   12.0  10.89   \n",
       "47027714      Machine  Assault Mode     EARTH  4500.0  4500.0   12.0   0.14   \n",
       "37542782      Machine     Cyberdark      DARK  5000.0  3800.0   12.0   0.00   \n",
       "46033517      Machine       Machina      DARK  4600.0  4100.0   10.0   0.00   \n",
       "58054262      Machine       Machina     EARTH  4600.0  4100.0   10.0   0.10   \n",
       "23995346       Dragon     Blue-Eyes     LIGHT  4500.0  3800.0   12.0   1.08   \n",
       "\n",
       "          AtkDefCombined  \n",
       "Id                        \n",
       "52085072         10000.0  \n",
       "99267150         10000.0  \n",
       "37115575         10000.0  \n",
       "62873545         10000.0  \n",
       "84433295          9000.0  \n",
       "47027714          9000.0  \n",
       "37542782          8800.0  \n",
       "46033517          8700.0  \n",
       "58054262          8700.0  \n",
       "23995346          8300.0  "
      ]
     },
     "execution_count": 101,
     "metadata": {},
     "output_type": "execute_result"
    }
   ],
   "source": [
    "#Show 10 most powerfull monsters based on atk + def\n",
    "info_database.sort_values(by=\"AtkDefCombined\",ascending=False).head(10)"
   ]
  },
  {
   "cell_type": "code",
   "execution_count": null,
   "id": "e4a1ace7-e1ed-45f9-8a0a-556fb9bca0cc",
   "metadata": {},
   "outputs": [],
   "source": []
  }
 ],
 "metadata": {
  "kernelspec": {
   "display_name": "Python 3 (ipykernel)",
   "language": "python",
   "name": "python3"
  },
  "language_info": {
   "codemirror_mode": {
    "name": "ipython",
    "version": 3
   },
   "file_extension": ".py",
   "mimetype": "text/x-python",
   "name": "python",
   "nbconvert_exporter": "python",
   "pygments_lexer": "ipython3",
   "version": "3.8.3"
  }
 },
 "nbformat": 4,
 "nbformat_minor": 5
}
